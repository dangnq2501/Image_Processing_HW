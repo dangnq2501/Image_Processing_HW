{
 "cells": [
  {
   "cell_type": "code",
   "execution_count": 1,
   "id": "ff0ad508",
   "metadata": {
    "_cell_guid": "b1076dfc-b9ad-4769-8c92-a6c4dae69d19",
    "_uuid": "8f2839f25d086af736a60e9eeb907d3b93b6e0e5",
    "execution": {
     "iopub.execute_input": "2024-11-08T12:58:09.394485Z",
     "iopub.status.busy": "2024-11-08T12:58:09.394167Z",
     "iopub.status.idle": "2024-11-08T12:58:10.144091Z",
     "shell.execute_reply": "2024-11-08T12:58:10.143212Z"
    },
    "papermill": {
     "duration": 0.757649,
     "end_time": "2024-11-08T12:58:10.146405",
     "exception": false,
     "start_time": "2024-11-08T12:58:09.388756",
     "status": "completed"
    },
    "tags": []
   },
   "outputs": [
    {
     "name": "stdout",
     "output_type": "stream",
     "text": [
      "/kaggle/input/resnet-parameter/resnet10_cifar10.pt\n",
      "/kaggle/input/resnet-parameter/resnet/resnet10_cifar10.pt\n",
      "/kaggle/input/resnet-parameter/resnet/data/cifar-10-batches-py/data_batch_1\n",
      "/kaggle/input/resnet-parameter/resnet/data/cifar-10-batches-py/data_batch_2\n",
      "/kaggle/input/resnet-parameter/resnet/data/cifar-10-batches-py/batches.meta\n",
      "/kaggle/input/resnet-parameter/resnet/data/cifar-10-batches-py/test_batch\n",
      "/kaggle/input/resnet-parameter/resnet/data/cifar-10-batches-py/data_batch_3\n",
      "/kaggle/input/resnet-parameter/resnet/data/cifar-10-batches-py/data_batch_5\n",
      "/kaggle/input/resnet-parameter/resnet/data/cifar-10-batches-py/data_batch_4\n",
      "/kaggle/input/resnet-parameter/resnet/data/cifar-10-batches-py/readme.html\n",
      "/kaggle/input/resnet-parameter/resnet/data/cifar-10-python/cifar-10-batches-py/data_batch_1\n",
      "/kaggle/input/resnet-parameter/resnet/data/cifar-10-python/cifar-10-batches-py/data_batch_2\n",
      "/kaggle/input/resnet-parameter/resnet/data/cifar-10-python/cifar-10-batches-py/batches.meta\n",
      "/kaggle/input/resnet-parameter/resnet/data/cifar-10-python/cifar-10-batches-py/test_batch\n",
      "/kaggle/input/resnet-parameter/resnet/data/cifar-10-python/cifar-10-batches-py/data_batch_3\n",
      "/kaggle/input/resnet-parameter/resnet/data/cifar-10-python/cifar-10-batches-py/data_batch_5\n",
      "/kaggle/input/resnet-parameter/resnet/data/cifar-10-python/cifar-10-batches-py/data_batch_4\n",
      "/kaggle/input/resnet-parameter/resnet/data/cifar-10-python/cifar-10-batches-py/readme.html\n"
     ]
    }
   ],
   "source": [
    "# This Python 3 environment comes with many helpful analytics libraries installed\n",
    "# It is defined by the kaggle/python Docker image: https://github.com/kaggle/docker-python\n",
    "# For example, here's several helpful packages to load\n",
    "\n",
    "import numpy as np # linear algebra\n",
    "import pandas as pd # data processing, CSV file I/O (e.g. pd.read_csv)\n",
    "\n",
    "# Input data files are available in the read-only \"../input/\" directory\n",
    "# For example, running this (by clicking run or pressing Shift+Enter) will list all files under the input directory\n",
    "\n",
    "import os\n",
    "for dirname, _, filenames in os.walk('/kaggle/input'):\n",
    "    for filename in filenames:\n",
    "        print(os.path.join(dirname, filename))\n",
    "\n",
    "# You can write up to 20GB to the current directory (/kaggle/working/) that gets preserved as output when you create a version using \"Save & Run All\" \n",
    "# You can also write temporary files to /kaggle/temp/, but they won't be saved outside of the current session"
   ]
  },
  {
   "cell_type": "code",
   "execution_count": 2,
   "id": "96e7a54d",
   "metadata": {
    "execution": {
     "iopub.execute_input": "2024-11-08T12:58:10.155739Z",
     "iopub.status.busy": "2024-11-08T12:58:10.155333Z",
     "iopub.status.idle": "2024-11-08T12:58:13.393571Z",
     "shell.execute_reply": "2024-11-08T12:58:13.392769Z"
    },
    "papermill": {
     "duration": 3.24528,
     "end_time": "2024-11-08T12:58:13.395897",
     "exception": false,
     "start_time": "2024-11-08T12:58:10.150617",
     "status": "completed"
    },
    "tags": []
   },
   "outputs": [],
   "source": [
    "import torch\n",
    "import torch.nn as nn\n",
    "import torch.nn.functional as F"
   ]
  },
  {
   "cell_type": "code",
   "execution_count": 3,
   "id": "08c84f35",
   "metadata": {
    "execution": {
     "iopub.execute_input": "2024-11-08T12:58:13.406737Z",
     "iopub.status.busy": "2024-11-08T12:58:13.405764Z",
     "iopub.status.idle": "2024-11-08T12:58:13.431773Z",
     "shell.execute_reply": "2024-11-08T12:58:13.430823Z"
    },
    "papermill": {
     "duration": 0.033241,
     "end_time": "2024-11-08T12:58:13.433765",
     "exception": false,
     "start_time": "2024-11-08T12:58:13.400524",
     "status": "completed"
    },
    "tags": []
   },
   "outputs": [],
   "source": [
    "class Bottleneck(nn.Module):\n",
    "    expansion = 4\n",
    "    def __init__(self, in_channels, out_channels, i_downsample=None, stride=1):\n",
    "        super(Bottleneck, self).__init__()\n",
    "        self.conv1 = nn.Conv2d(in_channels, out_channels, kernel_size=1, stride=1, padding=0)\n",
    "        self.bn1 = nn.BatchNorm2d(out_channels)\n",
    "        self.conv2 = nn.Conv2d(out_channels, out_channels, kernel_size=3, stride=stride, padding=1)\n",
    "        self.bn2 = nn.BatchNorm2d(out_channels)\n",
    "        self.conv3 = nn.Conv2d(out_channels, out_channels*self.expansion, kernel_size=1, stride=1, padding=0)\n",
    "        self.bn3 = nn.BatchNorm2d(out_channels*self.expansion)\n",
    "        \n",
    "        self.i_downsample = i_downsample\n",
    "        self.stride = stride\n",
    "        self.relu = nn.ReLU()\n",
    "    \n",
    "    def forward(self, x):\n",
    "        identify = x.clone()\n",
    "        x = self.relu(self.bn1(self.conv1(x)))\n",
    "        x = self.relu(self.bn2(self.conv2(x)))\n",
    "        x = self.bn3(self.conv3(x))\n",
    "        if self.i_downsample:\n",
    "            identify = self.i_downsample(identify)\n",
    "        x = self.relu(x+identify)\n",
    "        return x\n",
    "\n",
    "class Block(nn.Module):\n",
    "    expansion = 1\n",
    "    def __init__(self, in_channels, out_channels, i_downsample=None, stride=1):\n",
    "        super(Block, self).__init__()\n",
    "        self.conv1 = nn.Conv2d(in_channels, out_channels, kernel_size=3, padding=1, stride=stride, bias=False)\n",
    "        self.bn1 = nn.BatchNorm2d(out_channels)\n",
    "        self.conv2 = nn.Conv2d(out_channels, out_channels, kernel_size=3, padding=1, stride=stride, bias=False)\n",
    "        self.bn2 = nn.BatchNorm2d(out_channels)\n",
    "\n",
    "        \n",
    "        self.i_downsample = i_downsample\n",
    "        self.stride = stride\n",
    "        self.relu = nn.ReLU()\n",
    "    \n",
    "    def forward(self, x):\n",
    "        identify = x.clone()\n",
    "        x = self.relu(self.bn1(self.conv1(x)))\n",
    "        x = self.bn2(self.conv2(x))\n",
    "        if self.i_downsample:\n",
    "            identify = self.i_downsample(identify)\n",
    "        x = self.relu(x+identify)\n",
    "        return x\n",
    "\n",
    "class ResNet(nn.Module):\n",
    "    def __init__(self, ResBlock, in_channels, layer_list, num_classes, num_channels=3):\n",
    "        super(ResNet, self).__init__()\n",
    "        self.in_channels = in_channels\n",
    "        self.conv1 = nn.Conv2d(num_channels, in_channels, kernel_size=7, stride=2, padding=3, bias=False)\n",
    "        self.bn1 = nn.BatchNorm2d(in_channels)\n",
    "        self.relu = nn.ReLU()\n",
    "        self.max_pooling = nn.MaxPool2d(kernel_size=3, stride=2, padding=1)\n",
    "        \n",
    "        self.layer1 = self._make_layer(ResBlock, layer_list[0], planes=64)\n",
    "        self.layer2 = self._make_layer(ResBlock, layer_list[1], planes=128, stride=2)\n",
    "        self.layer3 = self._make_layer(ResBlock, layer_list[2], planes=256, stride=2)\n",
    "        self.layer4 = self._make_layer(ResBlock, layer_list[3], planes=512, stride=2)\n",
    "        \n",
    "        self.avgpool = nn.AdaptiveAvgPool2d((1,1))\n",
    "        self.fc = nn.Linear(512*ResBlock.expansion, num_classes)\n",
    "        \n",
    "    def forward(self, x):\n",
    "        x = self.relu(self.bn1(self.conv1(x)))\n",
    "        x = self.max_pooling(x)\n",
    "        \n",
    "        x = self.layer1(x)\n",
    "        x = self.layer2(x)\n",
    "        x = self.layer3(x)\n",
    "        x = self.layer4(x)\n",
    "        x = self.avgpool(x)\n",
    "        x = x.reshape(x.shape[0], -1)\n",
    "        x = self.fc(x)\n",
    "        return x\n",
    "    \n",
    "    def _make_layer(self, ResBlock, num_blocks, planes, stride=1):\n",
    "        ii_downsample = None\n",
    "        layers = []\n",
    "        if stride != 1 or self.in_channels != planes * ResBlock.expansion:\n",
    "            ii_downsample = nn.Sequential(\n",
    "                nn.Conv2d(self.in_channels, planes * ResBlock.expansion, kernel_size=1, stride=stride),\n",
    "                nn.BatchNorm2d(planes * ResBlock.expansion)\n",
    "            ) \n",
    "            \n",
    "        layers.append(ResBlock(self.in_channels, planes, ii_downsample, stride))\n",
    "        self.in_channels = planes * ResBlock.expansion\n",
    "        for i in range(num_blocks-1):\n",
    "            layers.append(ResBlock(self.in_channels, planes))\n",
    "        return nn.Sequential(*layers)\n",
    "    \n",
    "def ResNet50(num_classes, channels=3):\n",
    "    return ResNet(Bottleneck, 64, [3, 4, 6, 3], num_classes, channels)\n",
    "\n",
    "def ResNet101(num_classes, channels=3):\n",
    "    return ResNet(Bottleneck, 64, [3, 4, 23, 3], num_classes, channels)\n",
    "\n",
    "def ResNet152(num_classes, channels=3):\n",
    "    return ResNet(Bottleneck, 64, [3, 8, 36, 3], num_classes, channels)"
   ]
  },
  {
   "cell_type": "code",
   "execution_count": 4,
   "id": "8383d080",
   "metadata": {
    "execution": {
     "iopub.execute_input": "2024-11-08T12:58:13.443121Z",
     "iopub.status.busy": "2024-11-08T12:58:13.442793Z",
     "iopub.status.idle": "2024-11-08T12:58:15.012194Z",
     "shell.execute_reply": "2024-11-08T12:58:15.011399Z"
    },
    "papermill": {
     "duration": 1.576562,
     "end_time": "2024-11-08T12:58:15.014431",
     "exception": false,
     "start_time": "2024-11-08T12:58:13.437869",
     "status": "completed"
    },
    "tags": []
   },
   "outputs": [],
   "source": [
    "import torch\n",
    "import torchvision\n",
    "import torchvision.transforms as transforms\n",
    "import torch.nn as nn\n",
    "import torch.nn.functional as F\n",
    "import torch.optim as optim\n"
   ]
  },
  {
   "cell_type": "code",
   "execution_count": 5,
   "id": "81f9f15c",
   "metadata": {
    "execution": {
     "iopub.execute_input": "2024-11-08T12:58:15.024657Z",
     "iopub.status.busy": "2024-11-08T12:58:15.023911Z",
     "iopub.status.idle": "2024-11-08T12:58:23.184322Z",
     "shell.execute_reply": "2024-11-08T12:58:23.183558Z"
    },
    "papermill": {
     "duration": 8.167998,
     "end_time": "2024-11-08T12:58:23.186719",
     "exception": false,
     "start_time": "2024-11-08T12:58:15.018721",
     "status": "completed"
    },
    "tags": []
   },
   "outputs": [
    {
     "name": "stdout",
     "output_type": "stream",
     "text": [
      "Downloading https://www.cs.toronto.edu/~kriz/cifar-10-python.tar.gz to ./data/cifar-10-python.tar.gz\n"
     ]
    },
    {
     "name": "stderr",
     "output_type": "stream",
     "text": [
      "100%|██████████| 170498071/170498071 [00:04<00:00, 36463513.08it/s]\n"
     ]
    },
    {
     "name": "stdout",
     "output_type": "stream",
     "text": [
      "Extracting ./data/cifar-10-python.tar.gz to ./data\n",
      "Files already downloaded and verified\n"
     ]
    }
   ],
   "source": [
    "transform_train = transforms.Compose([\n",
    "    transforms.RandomHorizontalFlip(),\n",
    "    transforms.RandomCrop(32, padding=4),\n",
    "    transforms.ToTensor(),\n",
    "    transforms.Normalize((0.5, 0.5, 0.5), (0.5, 0.5, 0.5)),\n",
    "])\n",
    "\n",
    "transform_test = transforms.Compose([\n",
    "    transforms.ToTensor(),\n",
    "    transforms.Normalize((0.5, 0.5, 0.5), (0.5, 0.5, 0.5)),\n",
    "])\n",
    "train = torchvision.datasets.CIFAR10(root='./data', train=True, download=True, transform=transform_train)\n",
    "\n",
    "trainloader = torch.utils.data.DataLoader(train, batch_size=128, shuffle=True, num_workers=2)\n",
    "\n",
    "test = torchvision.datasets.CIFAR10(root='./data', train=False, download=True, transform=transform_test)\n",
    "\n",
    "testloader = torch.utils.data.DataLoader(test, batch_size=128,shuffle=False, num_workers=2)\n",
    "\n",
    "classes = ['plane', 'car', 'bird', 'cat', 'deer', 'dog', 'frog', 'horse', 'ship', 'truck']\n"
   ]
  },
  {
   "cell_type": "code",
   "execution_count": 6,
   "id": "d539e049",
   "metadata": {
    "execution": {
     "iopub.execute_input": "2024-11-08T12:58:23.204712Z",
     "iopub.status.busy": "2024-11-08T12:58:23.204398Z",
     "iopub.status.idle": "2024-11-08T12:58:24.025643Z",
     "shell.execute_reply": "2024-11-08T12:58:24.024301Z"
    },
    "papermill": {
     "duration": 0.832982,
     "end_time": "2024-11-08T12:58:24.028878",
     "exception": false,
     "start_time": "2024-11-08T12:58:23.195896",
     "status": "completed"
    },
    "tags": []
   },
   "outputs": [],
   "source": [
    "model = ResNet152(10).to('cuda')\n",
    "\n",
    "criterion = nn.CrossEntropyLoss()\n",
    "optimizer = optim.SGD(model.parameters(), lr=0.1, momentum=0.9, weight_decay=0.0001)\n",
    "scheduler = optim.lr_scheduler.ReduceLROnPlateau(optimizer, factor = 0.1, patience=5)"
   ]
  },
  {
   "cell_type": "code",
   "execution_count": 7,
   "id": "29cc8984",
   "metadata": {
    "execution": {
     "iopub.execute_input": "2024-11-08T12:58:24.051346Z",
     "iopub.status.busy": "2024-11-08T12:58:24.051009Z",
     "iopub.status.idle": "2024-11-08T19:40:51.152127Z",
     "shell.execute_reply": "2024-11-08T19:40:51.150965Z"
    },
    "papermill": {
     "duration": 24147.115389,
     "end_time": "2024-11-08T19:40:51.154795",
     "exception": false,
     "start_time": "2024-11-08T12:58:24.039406",
     "status": "completed"
    },
    "tags": []
   },
   "outputs": [
    {
     "name": "stdout",
     "output_type": "stream",
     "text": [
      "Loss [0](epoch):  4.323467741232089\n",
      "Loss [30](epoch):  1.36591833753659\n",
      "Loss [60](epoch):  1.1562669149140263\n",
      "Loss [90](epoch):  0.9892844062327119\n",
      "Loss [120](epoch):  0.853166982188554\n",
      "Loss [150](epoch):  0.7232123400701587\n",
      "Loss [180](epoch):  0.5851126584555487\n",
      "Loss [210](epoch):  0.4613979627256808\n",
      "Loss [240](epoch):  0.35208150527208965\n",
      "Loss [270](epoch):  0.139242887620807\n",
      "Training Done\n"
     ]
    }
   ],
   "source": [
    "epochs = 300\n",
    "for epoch in range(epochs):\n",
    "    losses = []\n",
    "    running_loss = 0\n",
    "    for i, inp in enumerate(trainloader):\n",
    "        inputs, labels = inp\n",
    "#         print(inputs.shape)\n",
    "        inputs, labels = inputs.to('cuda'), labels.to('cuda')\n",
    "        optimizer.zero_grad()\n",
    "    \n",
    "        outputs = model(inputs)\n",
    "        loss = criterion(outputs, labels)\n",
    "        losses.append(loss.item())\n",
    "\n",
    "        loss.backward()\n",
    "        optimizer.step()\n",
    "        \n",
    "        running_loss += loss.item()\n",
    "        \n",
    "    if epoch%(epochs//10) == 0:\n",
    "        print(f'Loss [{epoch}](epoch): ', running_loss / len(trainloader))\n",
    "        running_loss = 0.0\n",
    "\n",
    "    avg_loss = sum(losses)/len(losses)\n",
    "    scheduler.step(avg_loss)\n",
    "            \n",
    "print('Training Done')\n",
    "torch.save(model.state_dict(), \"resnet50_cifar10.pt\")"
   ]
  },
  {
   "cell_type": "code",
   "execution_count": 8,
   "id": "b7b2108c",
   "metadata": {
    "execution": {
     "iopub.execute_input": "2024-11-08T19:40:51.174917Z",
     "iopub.status.busy": "2024-11-08T19:40:51.174076Z",
     "iopub.status.idle": "2024-11-08T19:40:56.960073Z",
     "shell.execute_reply": "2024-11-08T19:40:56.958697Z"
    },
    "papermill": {
     "duration": 5.798809,
     "end_time": "2024-11-08T19:40:56.962511",
     "exception": false,
     "start_time": "2024-11-08T19:40:51.163702",
     "status": "completed"
    },
    "tags": []
   },
   "outputs": [],
   "source": [
    "import matplotlib.pyplot as plt\n",
    "import seaborn as sns\n",
    "from sklearn.metrics import confusion_matrix\n",
    "# model.load_state_dict(torch.load(\"/kaggle/input/resnet-parameter/resnet10_cifar10.pt\", weights_only=True))\n",
    "model.eval()\n",
    "all_preds = []\n",
    "all_labels = []\n",
    "\n",
    "with torch.no_grad():\n",
    "    for data in testloader:\n",
    "        images, labels = data\n",
    "        images, labels = images.to('cuda'), labels.to('cuda')\n",
    "        outputs = model(images)\n",
    "        _, predicted = torch.max(outputs.data, 1)\n",
    "        all_preds.extend(predicted.cpu().numpy())\n",
    "        all_labels.extend(labels.cpu().numpy())\n",
    "\n",
    "all_preds = np.array(all_preds)\n",
    "all_labels = np.array(all_labels)\n",
    "cm = confusion_matrix(all_labels, all_preds)\n"
   ]
  },
  {
   "cell_type": "code",
   "execution_count": 9,
   "id": "138bf074",
   "metadata": {
    "execution": {
     "iopub.execute_input": "2024-11-08T19:40:56.981613Z",
     "iopub.status.busy": "2024-11-08T19:40:56.980896Z",
     "iopub.status.idle": "2024-11-08T19:40:56.995150Z",
     "shell.execute_reply": "2024-11-08T19:40:56.994146Z"
    },
    "papermill": {
     "duration": 0.025957,
     "end_time": "2024-11-08T19:40:56.997149",
     "exception": false,
     "start_time": "2024-11-08T19:40:56.971192",
     "status": "completed"
    },
    "tags": []
   },
   "outputs": [
    {
     "name": "stdout",
     "output_type": "stream",
     "text": [
      "Accuracy:  0.7306\n",
      "F1 score:  0.7308885010897055\n"
     ]
    }
   ],
   "source": [
    "from sklearn.metrics import accuracy_score, f1_score\n",
    "accuracy = accuracy_score(all_labels, all_preds)\n",
    "f1_macro = f1_score(all_labels, all_preds, average='macro')\n",
    "print(\"Accuracy: \", accuracy)\n",
    "print(\"F1 score: \", f1_macro)"
   ]
  },
  {
   "cell_type": "code",
   "execution_count": 10,
   "id": "827ec2c3",
   "metadata": {
    "execution": {
     "iopub.execute_input": "2024-11-08T19:40:57.016110Z",
     "iopub.status.busy": "2024-11-08T19:40:57.015430Z",
     "iopub.status.idle": "2024-11-08T19:40:57.636164Z",
     "shell.execute_reply": "2024-11-08T19:40:57.635237Z"
    },
    "papermill": {
     "duration": 0.632044,
     "end_time": "2024-11-08T19:40:57.638204",
     "exception": false,
     "start_time": "2024-11-08T19:40:57.006160",
     "status": "completed"
    },
    "tags": []
   },
   "outputs": [
    {
     "data": {
      "image/png": "[encoded data removed]",
      "text/plain": [
       "<Figure size 1000x800 with 2 Axes>"
      ]
     },
     "metadata": {},
     "output_type": "display_data"
    }
   ],
   "source": [
    "class_names = ['plane', 'car', 'bird', 'cat', 'deer', 'dog', 'frog', 'horse', 'ship', 'truck']\n",
    "\n",
    "plt.figure(figsize=(10, 8))\n",
    "sns.heatmap(cm, annot=True, fmt='d', cmap='Blues', xticklabels=class_names, yticklabels=class_names)\n",
    "plt.xlabel('Predicted')\n",
    "plt.ylabel('True')\n",
    "plt.title('Confusion Matrix')\n",
    "plt.show()"
   ]
  },
  {
   "cell_type": "code",
   "execution_count": null,
   "id": "3345920f",
   "metadata": {
    "papermill": {
     "duration": 0.009401,
     "end_time": "2024-11-08T19:40:57.657691",
     "exception": false,
     "start_time": "2024-11-08T19:40:57.648290",
     "status": "completed"
    },
    "tags": []
   },
   "outputs": [],
   "source": []
  }
 ],
 "metadata": {
  "kaggle": {
   "accelerator": "gpu",
   "dataSources": [
    {
     "datasetId": 6039438,
     "sourceId": 9843968,
     "sourceType": "datasetVersion"
    }
   ],
   "dockerImageVersionId": 30786,
   "isGpuEnabled": true,
   "isInternetEnabled": true,
   "language": "python",
   "sourceType": "notebook"
  },
  "kernelspec": {
   "display_name": "Python 3",
   "language": "python",
   "name": "python3"
  },
  "language_info": {
   "codemirror_mode": {
    "name": "ipython",
    "version": 3
   },
   "file_extension": ".py",
   "mimetype": "text/x-python",
   "name": "python",
   "nbconvert_exporter": "python",
   "pygments_lexer": "ipython3",
   "version": "3.10.14"
  },
  "papermill": {
   "default_parameters": {},
   "duration": 24172.827886,
   "end_time": "2024-11-08T19:40:59.491154",
   "environment_variables": {},
   "exception": null,
   "input_path": "__notebook__.ipynb",
   "output_path": "__notebook__.ipynb",
   "parameters": {},
   "start_time": "2024-11-08T12:58:06.663268",
   "version": "2.6.0"
  }
 },
 "nbformat": 4,
 "nbformat_minor": 5
}
