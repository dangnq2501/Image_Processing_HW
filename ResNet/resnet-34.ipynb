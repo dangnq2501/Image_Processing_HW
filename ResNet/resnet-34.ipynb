{
 "cells": [
  {
   "cell_type": "code",
   "execution_count": 1,
   "id": "cd377d13",
   "metadata": {
    "_cell_guid": "b1076dfc-b9ad-4769-8c92-a6c4dae69d19",
    "_uuid": "8f2839f25d086af736a60e9eeb907d3b93b6e0e5",
    "execution": {
     "iopub.execute_input": "2024-11-09T01:45:58.128641Z",
     "iopub.status.busy": "2024-11-09T01:45:58.128287Z",
     "iopub.status.idle": "2024-11-09T01:45:58.926592Z",
     "shell.execute_reply": "2024-11-09T01:45:58.925584Z"
    },
    "papermill": {
     "duration": 0.806788,
     "end_time": "2024-11-09T01:45:58.928870",
     "exception": false,
     "start_time": "2024-11-09T01:45:58.122082",
     "status": "completed"
    },
    "tags": []
   },
   "outputs": [
    {
     "name": "stdout",
     "output_type": "stream",
     "text": [
      "/kaggle/input/resnet-parameter/resnet10_cifar10.pt\n",
      "/kaggle/input/resnet-parameter/resnet18_cifar10.pt\n",
      "/kaggle/input/resnet-parameter/resnet/resnet10_cifar10.pt\n",
      "/kaggle/input/resnet-parameter/resnet/data/cifar-10-batches-py/data_batch_1\n",
      "/kaggle/input/resnet-parameter/resnet/data/cifar-10-batches-py/data_batch_2\n",
      "/kaggle/input/resnet-parameter/resnet/data/cifar-10-batches-py/batches.meta\n",
      "/kaggle/input/resnet-parameter/resnet/data/cifar-10-batches-py/test_batch\n",
      "/kaggle/input/resnet-parameter/resnet/data/cifar-10-batches-py/data_batch_3\n",
      "/kaggle/input/resnet-parameter/resnet/data/cifar-10-batches-py/data_batch_5\n",
      "/kaggle/input/resnet-parameter/resnet/data/cifar-10-batches-py/data_batch_4\n",
      "/kaggle/input/resnet-parameter/resnet/data/cifar-10-batches-py/readme.html\n",
      "/kaggle/input/resnet-parameter/resnet/data/cifar-10-python/cifar-10-batches-py/data_batch_1\n",
      "/kaggle/input/resnet-parameter/resnet/data/cifar-10-python/cifar-10-batches-py/data_batch_2\n",
      "/kaggle/input/resnet-parameter/resnet/data/cifar-10-python/cifar-10-batches-py/batches.meta\n",
      "/kaggle/input/resnet-parameter/resnet/data/cifar-10-python/cifar-10-batches-py/test_batch\n",
      "/kaggle/input/resnet-parameter/resnet/data/cifar-10-python/cifar-10-batches-py/data_batch_3\n",
      "/kaggle/input/resnet-parameter/resnet/data/cifar-10-python/cifar-10-batches-py/data_batch_5\n",
      "/kaggle/input/resnet-parameter/resnet/data/cifar-10-python/cifar-10-batches-py/data_batch_4\n",
      "/kaggle/input/resnet-parameter/resnet/data/cifar-10-python/cifar-10-batches-py/readme.html\n"
     ]
    }
   ],
   "source": [
    "# This Python 3 environment comes with many helpful analytics libraries installed\n",
    "# It is defined by the kaggle/python Docker image: https://github.com/kaggle/docker-python\n",
    "# For example, here's several helpful packages to load\n",
    "\n",
    "import numpy as np # linear algebra\n",
    "import pandas as pd # data processing, CSV file I/O (e.g. pd.read_csv)\n",
    "\n",
    "# Input data files are available in the read-only \"../input/\" directory\n",
    "# For example, running this (by clicking run or pressing Shift+Enter) will list all files under the input directory\n",
    "\n",
    "import os\n",
    "for dirname, _, filenames in os.walk('/kaggle/input'):\n",
    "    for filename in filenames:\n",
    "        print(os.path.join(dirname, filename))\n",
    "\n",
    "# You can write up to 20GB to the current directory (/kaggle/working/) that gets preserved as output when you create a version using \"Save & Run All\" \n",
    "# You can also write temporary files to /kaggle/temp/, but they won't be saved outside of the current session"
   ]
  },
  {
   "cell_type": "code",
   "execution_count": 2,
   "id": "43dc323f",
   "metadata": {
    "execution": {
     "iopub.execute_input": "2024-11-09T01:45:58.938672Z",
     "iopub.status.busy": "2024-11-09T01:45:58.938168Z",
     "iopub.status.idle": "2024-11-09T01:46:02.171742Z",
     "shell.execute_reply": "2024-11-09T01:46:02.170722Z"
    },
    "papermill": {
     "duration": 3.241061,
     "end_time": "2024-11-09T01:46:02.174194",
     "exception": false,
     "start_time": "2024-11-09T01:45:58.933133",
     "status": "completed"
    },
    "tags": []
   },
   "outputs": [],
   "source": [
    "import torch\n",
    "import torch.nn as nn\n",
    "import torch.nn.functional as F"
   ]
  },
  {
   "cell_type": "code",
   "execution_count": 3,
   "id": "570e4970",
   "metadata": {
    "execution": {
     "iopub.execute_input": "2024-11-09T01:46:02.183745Z",
     "iopub.status.busy": "2024-11-09T01:46:02.183322Z",
     "iopub.status.idle": "2024-11-09T01:46:02.209737Z",
     "shell.execute_reply": "2024-11-09T01:46:02.208923Z"
    },
    "papermill": {
     "duration": 0.033348,
     "end_time": "2024-11-09T01:46:02.211596",
     "exception": false,
     "start_time": "2024-11-09T01:46:02.178248",
     "status": "completed"
    },
    "tags": []
   },
   "outputs": [],
   "source": [
    "class Bottleneck(nn.Module):\n",
    "    expansion = 4\n",
    "    def __init__(self, in_channels, out_channels, i_downsample=None, stride=1):\n",
    "        super(Bottleneck, self).__init__()\n",
    "        self.conv1 = nn.Conv2d(in_channels, out_channels, kernel_size=1, stride=1, padding=0)\n",
    "        self.bn1 = nn.BatchNorm2d(out_channels)\n",
    "        self.conv2 = nn.Conv2d(out_channels, out_channels, kernel_size=3, stride=stride, padding=1)\n",
    "        self.bn2 = nn.BatchNorm2d(out_channels)\n",
    "        self.conv3 = nn.Conv2d(out_channels, out_channels*self.expansion, kernel_size=1, stride=1, padding=0)\n",
    "        self.bn3 = nn.BatchNorm2d(out_channels*self.expansion)\n",
    "        \n",
    "        self.i_downsample = i_downsample\n",
    "        self.stride = stride\n",
    "        self.relu = nn.ReLU()\n",
    "    \n",
    "    def forward(self, x):\n",
    "        identify = x.clone()\n",
    "        x = self.relu(self.bn1(self.conv1(x)))\n",
    "        x = self.relu(self.bn2(self.conv2(x)))\n",
    "        x = self.bn3(self.conv3(x))\n",
    "        if self.i_downsample:\n",
    "            identify = self.i_downsample(identify)\n",
    "        x = self.relu(x+identify)\n",
    "        return x\n",
    "\n",
    "class Block(nn.Module):\n",
    "    expansion = 4\n",
    "    def __init__(self, in_channels, out_channels, i_downsample=None, stride=1):\n",
    "        super(Block, self).__init__()\n",
    "        self.conv1 = nn.Conv2d(in_channels, out_channels, kernel_size=3, padding=1, stride=stride, bias=False)\n",
    "        self.bn1 = nn.BatchNorm2d(out_channels)\n",
    "        self.conv2 = nn.Conv2d(out_channels, out_channels*self.expansion, kernel_size=3, padding=1, stride=stride, bias=False)\n",
    "        self.bn2 = nn.BatchNorm2d(out_channels*self.expansion)\n",
    "\n",
    "        \n",
    "        self.i_downsample = i_downsample\n",
    "        self.stride = stride\n",
    "        self.relu = nn.ReLU()\n",
    "    \n",
    "    def forward(self, x):\n",
    "        identify = x.clone()\n",
    "        x = self.relu(self.bn1(self.conv1(x)))\n",
    "        x = self.bn2(self.conv2(x))\n",
    "        if self.i_downsample:\n",
    "            identify = self.i_downsample(identify)\n",
    "        x = self.relu(x+identify)\n",
    "        return x\n",
    "\n",
    "class ResNet(nn.Module):\n",
    "    def __init__(self, ResBlock, in_channels, layer_list, num_classes, num_channels=3, stride=2):\n",
    "        super(ResNet, self).__init__()\n",
    "        self.in_channels = in_channels\n",
    "        self.conv1 = nn.Conv2d(num_channels, in_channels, kernel_size=7, stride=2, padding=3, bias=False)\n",
    "        self.bn1 = nn.BatchNorm2d(in_channels)\n",
    "        self.relu = nn.ReLU()\n",
    "        self.max_pooling = nn.MaxPool2d(kernel_size=3, stride=2, padding=1)\n",
    "        \n",
    "        self.layer1 = self._make_layer(ResBlock, layer_list[0], planes=64)\n",
    "        self.layer2 = self._make_layer(ResBlock, layer_list[1], planes=128, stride=stride)\n",
    "        self.layer3 = self._make_layer(ResBlock, layer_list[2], planes=256, stride=stride)\n",
    "        self.layer4 = self._make_layer(ResBlock, layer_list[3], planes=512, stride=stride)\n",
    "        \n",
    "        self.avgpool = nn.AdaptiveAvgPool2d((1,1))\n",
    "        self.fc = nn.Linear(512*ResBlock.expansion, num_classes)\n",
    "        \n",
    "    def forward(self, x):\n",
    "        x = self.relu(self.bn1(self.conv1(x)))\n",
    "        x = self.max_pooling(x)\n",
    "        \n",
    "        x = self.layer1(x)\n",
    "        x = self.layer2(x)\n",
    "        x = self.layer3(x)\n",
    "        x = self.layer4(x)\n",
    "        x = self.avgpool(x)\n",
    "        x = x.reshape(x.shape[0], -1)\n",
    "        x = self.fc(x)\n",
    "        return x\n",
    "    \n",
    "    def _make_layer(self, ResBlock, num_blocks, planes, stride=1):\n",
    "        ii_downsample = None\n",
    "        layers = []\n",
    "        if stride != 1 or self.in_channels != planes * ResBlock.expansion:\n",
    "            ii_downsample = nn.Sequential(\n",
    "                nn.Conv2d(self.in_channels, planes * ResBlock.expansion, kernel_size=1, stride=stride),\n",
    "                nn.BatchNorm2d(planes * ResBlock.expansion)\n",
    "            ) \n",
    "            \n",
    "        layers.append(ResBlock(self.in_channels, planes, ii_downsample, stride))\n",
    "        self.in_channels = planes * ResBlock.expansion\n",
    "        for i in range(num_blocks-1):\n",
    "            layers.append(ResBlock(self.in_channels, planes))\n",
    "        return nn.Sequential(*layers)\n",
    "    \n",
    "def ResNet18(num_classes, channels=3):\n",
    "    return ResNet(Block, 64, [2, 2, 2, 2], num_classes, channels, 1)\n",
    "\n",
    "def ResNet34(num_classes, channels=3):\n",
    "    return ResNet(Block, 64, [3, 4, 6, 3], num_classes, channels, 1)\n",
    "    \n",
    "def ResNet50(num_classes, channels=3):\n",
    "    return ResNet(Bottleneck, 64, [3, 4, 6, 3], num_classes, channels, 2)\n",
    "\n",
    "def ResNet101(num_classes, channels=3):\n",
    "    return ResNet(Bottleneck, 64, [3, 4, 23, 3], num_classes, channels, 2)\n",
    "\n",
    "def ResNet152(num_classes, channels=3):\n",
    "    return ResNet(Bottleneck, 64, [3, 8, 36, 3], num_classes, channels, 2)"
   ]
  },
  {
   "cell_type": "code",
   "execution_count": 4,
   "id": "6dea2353",
   "metadata": {
    "execution": {
     "iopub.execute_input": "2024-11-09T01:46:02.220185Z",
     "iopub.status.busy": "2024-11-09T01:46:02.219889Z",
     "iopub.status.idle": "2024-11-09T01:46:03.802574Z",
     "shell.execute_reply": "2024-11-09T01:46:03.801750Z"
    },
    "papermill": {
     "duration": 1.589356,
     "end_time": "2024-11-09T01:46:03.804774",
     "exception": false,
     "start_time": "2024-11-09T01:46:02.215418",
     "status": "completed"
    },
    "tags": []
   },
   "outputs": [],
   "source": [
    "import torch\n",
    "import torchvision\n",
    "import torchvision.transforms as transforms\n",
    "import torch.nn as nn\n",
    "import torch.nn.functional as F\n",
    "import torch.optim as optim\n"
   ]
  },
  {
   "cell_type": "code",
   "execution_count": 5,
   "id": "24208929",
   "metadata": {
    "execution": {
     "iopub.execute_input": "2024-11-09T01:46:03.814152Z",
     "iopub.status.busy": "2024-11-09T01:46:03.813727Z",
     "iopub.status.idle": "2024-11-09T01:46:12.815697Z",
     "shell.execute_reply": "2024-11-09T01:46:12.814924Z"
    },
    "papermill": {
     "duration": 9.00911,
     "end_time": "2024-11-09T01:46:12.817973",
     "exception": false,
     "start_time": "2024-11-09T01:46:03.808863",
     "status": "completed"
    },
    "tags": []
   },
   "outputs": [
    {
     "name": "stdout",
     "output_type": "stream",
     "text": [
      "Downloading https://www.cs.toronto.edu/~kriz/cifar-10-python.tar.gz to ./data/cifar-10-python.tar.gz\n"
     ]
    },
    {
     "name": "stderr",
     "output_type": "stream",
     "text": [
      "100%|██████████| 170498071/170498071 [00:05<00:00, 31065585.63it/s]\n"
     ]
    },
    {
     "name": "stdout",
     "output_type": "stream",
     "text": [
      "Extracting ./data/cifar-10-python.tar.gz to ./data\n",
      "Files already downloaded and verified\n"
     ]
    }
   ],
   "source": [
    "transform_train = transforms.Compose([\n",
    "    transforms.RandomHorizontalFlip(),\n",
    "    transforms.RandomCrop(32, padding=4),\n",
    "    transforms.ToTensor(),\n",
    "    transforms.Normalize((0.5, 0.5, 0.5), (0.5, 0.5, 0.5)),\n",
    "])\n",
    "\n",
    "transform_test = transforms.Compose([\n",
    "    transforms.ToTensor(),\n",
    "    transforms.Normalize((0.5, 0.5, 0.5), (0.5, 0.5, 0.5)),\n",
    "])\n",
    "train = torchvision.datasets.CIFAR10(root='./data', train=True, download=True, transform=transform_train)\n",
    "\n",
    "trainloader = torch.utils.data.DataLoader(train, batch_size=128, shuffle=True, num_workers=2)\n",
    "\n",
    "test = torchvision.datasets.CIFAR10(root='./data', train=False, download=True, transform=transform_test)\n",
    "\n",
    "testloader = torch.utils.data.DataLoader(test, batch_size=128,shuffle=False, num_workers=2)\n",
    "\n",
    "classes = ['plane', 'car', 'bird', 'cat', 'deer', 'dog', 'frog', 'horse', 'ship', 'truck']\n"
   ]
  },
  {
   "cell_type": "code",
   "execution_count": 6,
   "id": "c64b2e9c",
   "metadata": {
    "execution": {
     "iopub.execute_input": "2024-11-09T01:46:12.841741Z",
     "iopub.status.busy": "2024-11-09T01:46:12.840889Z",
     "iopub.status.idle": "2024-11-09T01:46:14.928588Z",
     "shell.execute_reply": "2024-11-09T01:46:14.927537Z"
    },
    "papermill": {
     "duration": 2.100401,
     "end_time": "2024-11-09T01:46:14.930990",
     "exception": false,
     "start_time": "2024-11-09T01:46:12.830589",
     "status": "completed"
    },
    "tags": []
   },
   "outputs": [],
   "source": [
    "model = ResNet18(10).to('cuda')\n",
    "model.load_state_dict(torch.load(\"/kaggle/input/resnet-parameter/resnet18_cifar10.pt\", weights_only=True))\n",
    "criterion = nn.CrossEntropyLoss()\n",
    "optimizer = optim.SGD(model.parameters(), lr=0.1, momentum=0.9, weight_decay=0.0001)\n",
    "scheduler = optim.lr_scheduler.ReduceLROnPlateau(optimizer, factor = 0.1, patience=5)"
   ]
  },
  {
   "cell_type": "code",
   "execution_count": 7,
   "id": "d0e4b23c",
   "metadata": {
    "execution": {
     "iopub.execute_input": "2024-11-09T01:46:14.949274Z",
     "iopub.status.busy": "2024-11-09T01:46:14.948835Z",
     "iopub.status.idle": "2024-11-09T04:41:14.885719Z",
     "shell.execute_reply": "2024-11-09T04:41:14.884579Z"
    },
    "papermill": {
     "duration": 10499.948777,
     "end_time": "2024-11-09T04:41:14.888203",
     "exception": false,
     "start_time": "2024-11-09T01:46:14.939426",
     "status": "completed"
    },
    "tags": []
   },
   "outputs": [
    {
     "name": "stdout",
     "output_type": "stream",
     "text": [
      "Loss [0](epoch):  0.1424532004672548\n",
      "Loss [20](epoch):  0.011285506330592476\n",
      "Loss [40](epoch):  0.003541972199843451\n",
      "Loss [60](epoch):  0.002143835981132027\n",
      "Loss [80](epoch):  0.0012603881260495671\n",
      "Loss [100](epoch):  0.0011373760352377741\n",
      "Loss [120](epoch):  0.0011825224713963049\n",
      "Loss [140](epoch):  0.0009868893709801593\n",
      "Loss [160](epoch):  0.0013963695157349378\n",
      "Loss [180](epoch):  0.0012317453253702522\n",
      "Training Done\n"
     ]
    }
   ],
   "source": [
    "epochs = 200\n",
    "for epoch in range(epochs):\n",
    "    losses = []\n",
    "    running_loss = 0\n",
    "    for i, inp in enumerate(trainloader):\n",
    "        inputs, labels = inp\n",
    "#         print(inputs.shape)\n",
    "        inputs, labels = inputs.to('cuda'), labels.to('cuda')\n",
    "        optimizer.zero_grad()\n",
    "    \n",
    "        outputs = model(inputs)\n",
    "        loss = criterion(outputs, labels)\n",
    "        losses.append(loss.item())\n",
    "\n",
    "        loss.backward()\n",
    "        optimizer.step()\n",
    "        \n",
    "        running_loss += loss.item()\n",
    "        \n",
    "    if epoch%(epochs//10) == 0:\n",
    "        print(f'Loss [{epoch}](epoch): ', running_loss / len(trainloader))\n",
    "        running_loss = 0.0\n",
    "\n",
    "    avg_loss = sum(losses)/len(losses)\n",
    "    scheduler.step(avg_loss)\n",
    "            \n",
    "print('Training Done')\n",
    "torch.save(model.state_dict(), \"resnet50_cifar10.pt\")"
   ]
  },
  {
   "cell_type": "code",
   "execution_count": 8,
   "id": "588bfd25",
   "metadata": {
    "execution": {
     "iopub.execute_input": "2024-11-09T04:41:14.907931Z",
     "iopub.status.busy": "2024-11-09T04:41:14.907591Z",
     "iopub.status.idle": "2024-11-09T04:41:20.382104Z",
     "shell.execute_reply": "2024-11-09T04:41:20.380952Z"
    },
    "papermill": {
     "duration": 5.48734,
     "end_time": "2024-11-09T04:41:20.384672",
     "exception": false,
     "start_time": "2024-11-09T04:41:14.897332",
     "status": "completed"
    },
    "tags": []
   },
   "outputs": [],
   "source": [
    "import matplotlib.pyplot as plt\n",
    "import seaborn as sns\n",
    "from sklearn.metrics import confusion_matrix\n",
    "# model.load_state_dict(torch.load(\"/kaggle/input/resnet-parameter/resnet10_cifar10.pt\", weights_only=True))\n",
    "model.eval()\n",
    "all_preds = []\n",
    "all_labels = []\n",
    "\n",
    "with torch.no_grad():\n",
    "    for data in testloader:\n",
    "        images, labels = data\n",
    "        images, labels = images.to('cuda'), labels.to('cuda')\n",
    "        outputs = model(images)\n",
    "        _, predicted = torch.max(outputs.data, 1)\n",
    "        all_preds.extend(predicted.cpu().numpy())\n",
    "        all_labels.extend(labels.cpu().numpy())\n",
    "\n",
    "all_preds = np.array(all_preds)\n",
    "all_labels = np.array(all_labels)\n",
    "cm = confusion_matrix(all_labels, all_preds)\n"
   ]
  },
  {
   "cell_type": "code",
   "execution_count": 9,
   "id": "08ec3f0a",
   "metadata": {
    "execution": {
     "iopub.execute_input": "2024-11-09T04:41:20.404967Z",
     "iopub.status.busy": "2024-11-09T04:41:20.404303Z",
     "iopub.status.idle": "2024-11-09T04:41:20.418561Z",
     "shell.execute_reply": "2024-11-09T04:41:20.417520Z"
    },
    "papermill": {
     "duration": 0.02672,
     "end_time": "2024-11-09T04:41:20.420584",
     "exception": false,
     "start_time": "2024-11-09T04:41:20.393864",
     "status": "completed"
    },
    "tags": []
   },
   "outputs": [
    {
     "name": "stdout",
     "output_type": "stream",
     "text": [
      "Accuracy:  0.902\n",
      "F1 score:  0.9022119163840957\n"
     ]
    }
   ],
   "source": [
    "from sklearn.metrics import accuracy_score, f1_score\n",
    "accuracy = accuracy_score(all_labels, all_preds)\n",
    "f1_macro = f1_score(all_labels, all_preds, average='macro')\n",
    "print(\"Accuracy: \", accuracy)\n",
    "print(\"F1 score: \", f1_macro)"
   ]
  },
  {
   "cell_type": "code",
   "execution_count": 10,
   "id": "1b89aff2",
   "metadata": {
    "execution": {
     "iopub.execute_input": "2024-11-09T04:41:20.440346Z",
     "iopub.status.busy": "2024-11-09T04:41:20.439454Z",
     "iopub.status.idle": "2024-11-09T04:41:21.015232Z",
     "shell.execute_reply": "2024-11-09T04:41:21.014282Z"
    },
    "papermill": {
     "duration": 0.587645,
     "end_time": "2024-11-09T04:41:21.017328",
     "exception": false,
     "start_time": "2024-11-09T04:41:20.429683",
     "status": "completed"
    },
    "tags": []
   },
   "outputs": [
    {
     "data": {
      "image/png": "[encoded data removed]",
      "text/plain": [
       "<Figure size 1000x800 with 2 Axes>"
      ]
     },
     "metadata": {},
     "output_type": "display_data"
    }
   ],
   "source": [
    "class_names = ['plane', 'car', 'bird', 'cat', 'deer', 'dog', 'frog', 'horse', 'ship', 'truck']\n",
    "\n",
    "plt.figure(figsize=(10, 8))\n",
    "sns.heatmap(cm, annot=True, fmt='d', cmap='Blues', xticklabels=class_names, yticklabels=class_names)\n",
    "plt.xlabel('Predicted')\n",
    "plt.ylabel('True')\n",
    "plt.title('Confusion Matrix')\n",
    "plt.show()"
   ]
  },
  {
   "cell_type": "code",
   "execution_count": null,
   "id": "c7d32e3c",
   "metadata": {
    "papermill": {
     "duration": 0.009783,
     "end_time": "2024-11-09T04:41:21.037356",
     "exception": false,
     "start_time": "2024-11-09T04:41:21.027573",
     "status": "completed"
    },
    "tags": []
   },
   "outputs": [],
   "source": []
  }
 ],
 "metadata": {
  "kaggle": {
   "accelerator": "gpu",
   "dataSources": [
    {
     "datasetId": 6039438,
     "sourceId": 9848455,
     "sourceType": "datasetVersion"
    }
   ],
   "dockerImageVersionId": 30786,
   "isGpuEnabled": true,
   "isInternetEnabled": true,
   "language": "python",
   "sourceType": "notebook"
  },
  "kernelspec": {
   "display_name": "Python 3",
   "language": "python",
   "name": "python3"
  },
  "language_info": {
   "codemirror_mode": {
    "name": "ipython",
    "version": 3
   },
   "file_extension": ".py",
   "mimetype": "text/x-python",
   "name": "python",
   "nbconvert_exporter": "python",
   "pygments_lexer": "ipython3",
   "version": "3.10.14"
  },
  "papermill": {
   "default_parameters": {},
   "duration": 10527.32773,
   "end_time": "2024-11-09T04:41:22.771653",
   "environment_variables": {},
   "exception": null,
   "input_path": "__notebook__.ipynb",
   "output_path": "__notebook__.ipynb",
   "parameters": {},
   "start_time": "2024-11-09T01:45:55.443923",
   "version": "2.6.0"
  }
 },
 "nbformat": 4,
 "nbformat_minor": 5
}
